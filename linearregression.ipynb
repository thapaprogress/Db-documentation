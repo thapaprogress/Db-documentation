{
  "cells": [
    {
      "cell_type": "markdown",
      "metadata": {
        "id": "view-in-github",
        "colab_type": "text"
      },
      "source": [
        "<a href=\"https://colab.research.google.com/github/thapaprogress/Db-documentation/blob/master/linearregression.ipynb\" target=\"_parent\"><img src=\"https://colab.research.google.com/assets/colab-badge.svg\" alt=\"Open In Colab\"/></a>"
      ]
    },
    {
      "cell_type": "code",
      "execution_count": null,
      "id": "27c4e3e3",
      "metadata": {
        "id": "27c4e3e3"
      },
      "outputs": [],
      "source": [
        "import numpy as np\n",
        "import matplotlib.pyplot as plt\n"
      ]
    },
    {
      "cell_type": "markdown",
      "id": "a605814a",
      "metadata": {
        "id": "a605814a"
      },
      "source": [
        "# Linear regression using Gradient Descent - A simple approach"
      ]
    },
    {
      "cell_type": "markdown",
      "id": "8d3a13bd",
      "metadata": {
        "id": "8d3a13bd"
      },
      "source": [
        "# Step 1: Generate synthetic data for a simple linear regression model"
      ]
    },
    {
      "cell_type": "code",
      "execution_count": null,
      "id": "59e14ebe",
      "metadata": {
        "id": "59e14ebe"
      },
      "outputs": [],
      "source": [
        "np.random.seed(42)  # for reproducibility\n"
      ]
    },
    {
      "cell_type": "markdown",
      "id": "5688b348",
      "metadata": {
        "id": "5688b348"
      },
      "source": [
        "Let's assume X as the independent variable (features) and Y as the dependent variable (target)\n",
        "Create 100 random values for X\n"
      ]
    },
    {
      "cell_type": "code",
      "execution_count": null,
      "id": "675c583d",
      "metadata": {
        "id": "675c583d"
      },
      "outputs": [],
      "source": [
        "X = 2 * np.random.rand(100, 1)"
      ]
    },
    {
      "cell_type": "markdown",
      "id": "505e5db9",
      "metadata": {
        "id": "505e5db9"
      },
      "source": [
        "Generate Y with a linear relation to X: Y = 3 + 5 * X + random noise\n",
        " Here, 3 is the intercept and 5 is the slope of the line."
      ]
    },
    {
      "cell_type": "code",
      "execution_count": null,
      "id": "56912a0c",
      "metadata": {
        "id": "56912a0c"
      },
      "outputs": [],
      "source": [
        "Y = 3 + 5 * X + np.random.randn(100, 1)  # Adding random noise for realism"
      ]
    },
    {
      "cell_type": "markdown",
      "id": "d1fd795e",
      "metadata": {
        "id": "d1fd795e"
      },
      "source": [
        "Step 2: Add an intercept term to X (to include the bias/intercept in the model)\n",
        " We add a column of 1s to X to include the intercept in our model. This allows us to compute both the slope and intercept during gradient descent."
      ]
    },
    {
      "cell_type": "code",
      "execution_count": null,
      "id": "62116a63",
      "metadata": {
        "id": "62116a63"
      },
      "outputs": [],
      "source": [
        "X_b = np.c_[np.ones((100, 1)), X]  # add a column of ones to X for the intercept\n"
      ]
    },
    {
      "cell_type": "markdown",
      "id": "52d880fb",
      "metadata": {
        "id": "52d880fb"
      },
      "source": [
        "# How Theta is Found:\n",
        "\n",
        "During each iteration of gradient descent, theta is updated using the following rule:\n",
        "\n",
        "𝜃\n",
        "=𝜃\n",
        "−\n",
        "𝛼\n",
        "×\n",
        "1\n",
        "𝑚\n",
        "×\n",
        "X.T\n",
        "×\n",
        "(\n",
        "predictions\n",
        "−\n",
        "𝑌\n",
        ")\n",
        "\n",
        "Here:\n",
        "\n",
        "\\alpha is the learning rate (0.1 in our case).\n",
        "\n",
        "m is the number of training examples (100).\n",
        "\n",
        "X.T is the transpose of the input matrix X.\n",
        "\n",
        "predictions are the current predicted values based on the current theta.\n",
        "\n",
        "This process continues for the number of epochs (1000 iterations) to refine theta until it converges to the best values."
      ]
    },
    {
      "cell_type": "markdown",
      "id": "59bb58fc",
      "metadata": {
        "id": "59bb58fc"
      },
      "source": [
        "# Step 3: Initialize theta (weights) with zeros\n",
        "We initialize theta (our model parameters) to zeros, meaning the model starts with no assumptions.\n"
      ]
    },
    {
      "cell_type": "code",
      "execution_count": null,
      "id": "83e9c6c0",
      "metadata": {
        "id": "83e9c6c0"
      },
      "outputs": [],
      "source": [
        "theta = np.zeros((2, 1))  # two parameters: intercept and slope\n"
      ]
    },
    {
      "cell_type": "markdown",
      "id": "dbd15b87",
      "metadata": {
        "id": "dbd15b87"
      },
      "source": [
        "After running the gradient descent algorithm, theta is updated in each iteration to minimize the error (cost).\n",
        "\n",
        "The final value of theta is what we get after all the epochs (iterations). In this case, the final values of theta are:\n",
        "\n",
        "\n",
        "theta = [[3.21509616], [4.77011339]]\n",
        "\n",
        "This means that:\n",
        "\n",
        "θ0 (intercept) = 3.215,\n",
        "meaning the line crosses the Y-axis at approximately 3.215.\n",
        "\n",
        "θ1 (slope) = 4.77,\n",
        "meaning for every 1-unit increase in X, Y increases by approximately 4.77 units."
      ]
    },
    {
      "cell_type": "markdown",
      "id": "8f43985b",
      "metadata": {
        "id": "8f43985b"
      },
      "source": [
        "# Step 4: Set hyperparameters for Gradient Descent\n",
        "Set a learning rate of 0.1 (controls how big each update step is) and perform 1000 iterations (epochs).\n"
      ]
    },
    {
      "cell_type": "code",
      "execution_count": null,
      "id": "c1f562de",
      "metadata": {
        "id": "c1f562de"
      },
      "outputs": [],
      "source": [
        "learning_rate = 0.1  # how large of a step we take during each iteration\n",
        "epochs = 1000  # how many times we update the weights"
      ]
    },
    {
      "cell_type": "markdown",
      "id": "d3ab8947",
      "metadata": {
        "id": "d3ab8947"
      },
      "source": [
        "# Step 5: Define a simple function for Gradient Descent"
      ]
    },
    {
      "cell_type": "code",
      "execution_count": null,
      "id": "62e6a646",
      "metadata": {
        "id": "62e6a646"
      },
      "outputs": [],
      "source": [
        "def simple_grad_descent(X, Y, theta, learning_rate, epochs):\n",
        "    m = len(Y)  # number of training examples\n",
        "    history = []  # to store the loss/cost after each iteration\n",
        "    for _ in range(epochs):\n",
        "        # Predict values based on current theta\n",
        "        predictions = X.dot(theta)\n",
        "\n",
        "        # Calculate the error (difference between actual Y and predicted Y)\n",
        "        errors = predictions - Y\n",
        "\n",
        "        # Update the theta values using the Gradient Descent formula\n",
        "        gradients = 2/m * X.T.dot(errors)\n",
        "        theta = theta - learning_rate * gradients\n",
        "\n",
        "        # Compute the cost (Mean Squared Error) and store it in history\n",
        "        cost = (1/m) * np.sum(errors**2)\n",
        "        history.append(cost)\n",
        "\n",
        "    return theta, history"
      ]
    },
    {
      "cell_type": "markdown",
      "id": "a9a2615a",
      "metadata": {
        "id": "a9a2615a"
      },
      "source": [
        "\n",
        "# Step 6: Train the model using the Gradient Descent function"
      ]
    },
    {
      "cell_type": "code",
      "execution_count": null,
      "id": "4cc3b001",
      "metadata": {
        "id": "4cc3b001"
      },
      "outputs": [],
      "source": [
        "final_theta, cost_history = simple_grad_descent(X_b, Y, theta, learning_rate, epochs)"
      ]
    },
    {
      "cell_type": "markdown",
      "id": "2df4c25d",
      "metadata": {
        "id": "2df4c25d"
      },
      "source": [
        "# Step 7: Plot the data and the best-fit line"
      ]
    },
    {
      "cell_type": "code",
      "execution_count": null,
      "id": "72949f36",
      "metadata": {
        "id": "72949f36",
        "outputId": "6a0994d1-4b79-495e-cd39-51c993b8d154"
      },
      "outputs": [
        {
          "data": {
            "image/png": "[encoded data removed]",
            "text/plain": [
              "<Figure size 640x480 with 1 Axes>"
            ]
          },
          "metadata": {},
          "output_type": "display_data"
        }
      ],
      "source": [
        "plt.scatter(X, Y, label='Data Points')\n",
        "plt.plot(X, X_b.dot(final_theta), color='red', label='Best Fit Line')  # predicted line\n",
        "plt.title(\"Simple Linear Regression Fit\")\n",
        "plt.xlabel(\"X (Features)\")\n",
        "plt.ylabel(\"Y (Target)\")\n",
        "plt.legend()\n",
        "plt.show()"
      ]
    },
    {
      "cell_type": "markdown",
      "id": "bf5a1ad0",
      "metadata": {
        "id": "bf5a1ad0"
      },
      "source": [
        "# Output the final learned parameters (theta)"
      ]
    },
    {
      "cell_type": "code",
      "execution_count": null,
      "id": "c3fb63d7",
      "metadata": {
        "id": "c3fb63d7",
        "outputId": "ae57e785-760d-4dc3-83dd-f64fa4e5edc0"
      },
      "outputs": [
        {
          "data": {
            "text/plain": [
              "(array([[3.21509616],\n",
              "        [4.77011339]]),\n",
              " 0.8065845639670535)"
            ]
          },
          "execution_count": 12,
          "metadata": {},
          "output_type": "execute_result"
        }
      ],
      "source": [
        "final_theta, cost_history[-1]  # Final parameters (theta) and final cost (loss)"
      ]
    },
    {
      "cell_type": "markdown",
      "id": "fc4fd439",
      "metadata": {
        "id": "fc4fd439"
      },
      "source": [
        "Final Results:\n",
        "The learned parameters (theta) are:\n",
        "Intercept: ~3.21\n",
        "Slope: ~4.77\n",
        "The final cost (mean squared error) is approximately 0.807, indicating the model fits the data reasonably well.\n",
        "This approach uses a simple, iterative method (gradient descent) to find the best parameters that describe the linear relationship between X and Y."
      ]
    },
    {
      "cell_type": "code",
      "execution_count": null,
      "id": "04636507",
      "metadata": {
        "id": "04636507"
      },
      "outputs": [],
      "source": []
    }
  ],
  "metadata": {
    "kernelspec": {
      "display_name": "Python 3 (ipykernel)",
      "language": "python",
      "name": "python3"
    },
    "language_info": {
      "codemirror_mode": {
        "name": "ipython",
        "version": 3
      },
      "file_extension": ".py",
      "mimetype": "text/x-python",
      "name": "python",
      "nbconvert_exporter": "python",
      "pygments_lexer": "ipython3",
      "version": "3.10.9"
    },
    "colab": {
      "provenance": [],
      "include_colab_link": true
    }
  },
  "nbformat": 4,
  "nbformat_minor": 5
}